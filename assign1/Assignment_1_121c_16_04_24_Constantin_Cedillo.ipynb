{
  "nbformat": 4,
  "nbformat_minor": 0,
  "metadata": {
    "colab": {
      "provenance": [],
      "gpuType": "T4"
    },
    "kernelspec": {
      "name": "python3",
      "display_name": "Python 3"
    },
    "language_info": {
      "name": "python"
    },
    "accelerator": "GPU"
  },
  "cells": [
    {
      "cell_type": "markdown",
      "source": [
        "**4.1 DE**\n",
        "\n",
        "Dense Matrix\n",
        "\n",
        "Hamiltonian computation"
      ],
      "metadata": {
        "id": "Tfuw8WINOpF_"
      }
    },
    {
      "cell_type": "code",
      "execution_count": null,
      "metadata": {
        "id": "s4JVUrz6ITVz"
      },
      "outputs": [],
      "source": [
        "import numpy as np\n",
        "from scipy.sparse import csr_matrix\n",
        "import scipy\n",
        "import scipy.sparse.linalg as sla\n",
        "from tqdm import tqdm\n",
        "import matplotlib.pyplot as plt\n",
        "from scipy.optimize import curve_fit\n",
        "from scipy.linalg import eigh\n",
        "def ising_hamiltonian(L,h,periodic):\n",
        "  H=np.zeros((2**L,2**L))\n",
        "  for b in range(2**L):\n",
        "    for j in range(1,L+1):\n",
        "      a=b^(1<<j-1)\n",
        "      H[a,b]=-h\n",
        "  for a in range(2**L):\n",
        "    for j in range(1,L):\n",
        "      if a&(1<<j)==(a&(1<<j-1))*2:\n",
        "        H[a,a]-=1\n",
        "      else:\n",
        "        H[a,a]+=1\n",
        "\n",
        "    if periodic:\n",
        "        if (a & (1 << L-1)) == ((a & (1 << 0))*(2**(L-1))) :\n",
        "          H[a, a]-=1\n",
        "        else:\n",
        "          H[a, a]+=1\n",
        "  return H"
      ]
    },
    {
      "cell_type": "markdown",
      "source": [
        "Comparison between periodic and non periodic"
      ],
      "metadata": {
        "id": "827EWbMKPF8A"
      }
    },
    {
      "cell_type": "code",
      "source": [
        "L_values=[8,10,12]\n",
        "def calculate_h_values(L):\n",
        "\n",
        "    if L==8:\n",
        "        return 50\n",
        "    if L==10:\n",
        "        return 30\n",
        "    if L==12:\n",
        "        return 30\n",
        "    if L==14:\n",
        "        return 12\n",
        "    else:\n",
        "        return 30\n",
        "all_energies = {L: {'periodic': [], 'non_periodic': [], 'h_values': None} for L in L_values}\n",
        "\n",
        "for periodic in [True, False]:\n",
        "    for L in L_values:\n",
        "        h_values = np.linspace(-2, 2, calculate_h_values(L))\n",
        "        energies = []\n",
        "        for h in tqdm(h_values, desc=f'Calculating for L={L}, Periodic={periodic}'):\n",
        "            H = ising_hamiltonian(L, h, periodic)\n",
        "            ground_state = scipy.linalg.eigh(H, subset_by_index=(0, 0), eigvals_only=True)\n",
        "            energies.append(ground_state[0])\n",
        "        all_energies[L]['h_values'] = h_values\n",
        "        if periodic:\n",
        "            all_energies[L]['periodic'] = energies\n",
        "        else:\n",
        "            all_energies[L]['non_periodic'] = energies\n",
        "\n",
        "plt.figure(figsize=(14, 7))\n",
        "for L, data in all_energies.items():\n",
        "    plt.plot(data['h_values'], data['periodic'], label=f'L={L}, Periodic')\n",
        "    plt.plot(data['h_values'], data['non_periodic'], linestyle='--', label=f'L={L}, Non-Periodic')\n",
        "\n",
        "plt.xlabel('h values')\n",
        "plt.ylabel('Ground state energies')\n",
        "plt.title('Comparison of Ground State Energies')\n",
        "plt.legend()\n",
        "plt.show()\n"
      ],
      "metadata": {
        "id": "r7TX_xIVjZfW"
      },
      "execution_count": null,
      "outputs": []
    },
    {
      "cell_type": "markdown",
      "source": [
        "**4.2 Sparse matrix computation**"
      ],
      "metadata": {
        "id": "V6goX6EXPN-N"
      }
    },
    {
      "cell_type": "code",
      "source": [
        "from scipy.sparse import csr_matrix\n",
        "def ising_sparse(L,h,periodic):\n",
        "  rows = []\n",
        "  cols = []\n",
        "  matrix_elements = []\n",
        "  for b in range(2**L):\n",
        "    for j in range(1, L + 1):\n",
        "      a = b ^ (1 << (j - 1))\n",
        "      rows.append(a)\n",
        "      cols.append(b)\n",
        "      matrix_elements.append(-h)\n",
        "\n",
        "  for a in range(2**L):\n",
        "    diagonal_value =0\n",
        "    for j in range(1, L):\n",
        "        if a & (1 << j) == (a & (1 << (j - 1))) * 2:\n",
        "            diagonal_value -= 1\n",
        "        else:\n",
        "            diagonal_value += 1\n",
        "\n",
        "    if periodic:\n",
        "        if (a & (1 << (L - 1))) == ((a & 1) * (2 ** (L - 1))):\n",
        "            diagonal_value -= 1\n",
        "        else:\n",
        "            diagonal_value += 1\n",
        "        rows.append(a)\n",
        "        cols.append(a)\n",
        "        matrix_elements.append(diagonal_value)\n",
        "  H_sparse = csr_matrix((matrix_elements, (rows, cols)), shape=(2**L, 2**L), dtype=np.float64)\n",
        "  return H_sparse\n"
      ],
      "metadata": {
        "id": "U8JtWE1P2Qpm"
      },
      "execution_count": null,
      "outputs": []
    },
    {
      "cell_type": "markdown",
      "source": [
        "Plotting ground state energies for range of h"
      ],
      "metadata": {
        "id": "koYCYrD3PVFN"
      }
    },
    {
      "cell_type": "code",
      "source": [
        "\n",
        "import matplotlib.pyplot as plt\n",
        "import scipy\n",
        "\n",
        "L_values = [8,10,12,14,16,18,20]\n",
        "h_values = [-1,0,1]\n",
        "ground_state_energies = {L: [] for L in L_values}\n",
        "\n",
        "for L in L_values:\n",
        "    for h in tqdm(h_values, desc=f'Computing for L={L}'):\n",
        "        H = ising_sparse(L, h, periodic=True)\n",
        "        ground_state = scipy.sparse.linalg.eigsh(H, k=1, which='SA', return_eigenvectors=False)[0]\n",
        "        ground_state_energies[L].append(ground_state)\n",
        "\n",
        "for L, energies in ground_state_energies.items():\n",
        "    plt.plot(h_values, energies, label=f'L={L}')\n",
        "plt.xlabel('hvalues')\n",
        "plt.ylabel('ground state energies')\n",
        "plt.legend()\n",
        "plt.show()"
      ],
      "metadata": {
        "id": "HidS_6F54vtY"
      },
      "execution_count": null,
      "outputs": []
    },
    {
      "cell_type": "markdown",
      "source": [
        "4.3 **Study of L dependence on ground state energy**"
      ],
      "metadata": {
        "id": "tuGxSN9KTeFs"
      }
    },
    {
      "cell_type": "code",
      "source": [
        "import numpy as np\n",
        "import scipy\n",
        "import matplotlib.pyplot as plt\n",
        "from scipy.sparse.linalg import eigsh\n",
        "from tqdm import tqdm\n",
        "import scipy.sparse.linalg\n",
        "\n",
        "\n",
        "h_values = [0.3, 1.7]\n",
        "L_values = [4, 6, 8, 10, 12, 14, 16, 18, 20]\n",
        "\n",
        "lists = []\n",
        "for h in tqdm(h_valuess, desc='Processing h values'):\n",
        "\n",
        "    ground_state_energy_open = []\n",
        "    ground_state_energy_periodic = []\n",
        "\n",
        "    for L in tqdm(L_values, desc=f'Processing L values for h={h}'):\n",
        "        H_open = ising_sparse(L, h, 'open')\n",
        "        H_periodic = ising_sparse(L, h, 'periodic')\n",
        "\n",
        "        eigenvalues_open, _ = scipy.sparse.linalg.eigsh(H_open, which='SA')\n",
        "        ground_state_energy_open.append(eigenvalues_open[0] / L)\n",
        "\n",
        "        eigenvalues_periodic, _ = scipy.sparse.linalg.eigsh(H_periodic, which='SA')\n",
        "        ground_state_energy_periodic.append(eigenvalues_periodic[0] / L)\n",
        "\n",
        "    plt.title(f'h = {h}')\n",
        "    plt.plot(L_values, ground_state_energy_open, label='open boundary')\n",
        "    plt.plot(L_values, ground_state_energy_periodic, label='periodic boundary')\n",
        "    plt.legend()\n",
        "    plt.xlabel('L')\n",
        "    plt.ylabel('Ground State Energy')\n",
        "    plt.show()\n",
        "\n",
        "    lists.append([(ground_state_energy_open[i+1]-ground_state_energy_open[i])/2 for i in range(len(ground_state_energy_open_)-1)])\n",
        "\n",
        "for i in range(len(lists)):\n",
        "    plt.plot(L_values[:-1], lists[i])\n",
        "plt.title('Energy Differences')\n",
        "plt.legend(['ferromagnetic', 'paramagnetic'])\n",
        "plt.xlabel('L')\n",
        "plt.ylabel('Ground State Energy')\n",
        "plt.show()\n",
        "\n"
      ],
      "metadata": {
        "id": "bOigEJIZXsKO"
      },
      "execution_count": null,
      "outputs": []
    },
    {
      "cell_type": "markdown",
      "source": [
        "**4.4 Identifying the quantum phase transition**"
      ],
      "metadata": {
        "id": "Jz4cQ4D0tvQN"
      }
    },
    {
      "cell_type": "markdown",
      "source": [
        "Plotting wavefunctions and computing nu"
      ],
      "metadata": {
        "id": "tRGp81QZCttS"
      }
    },
    {
      "cell_type": "code",
      "source": [
        "import numpy as np\n",
        "import scipy.sparse.linalg as sla\n",
        "from scipy.optimize import curve_fit\n",
        "import matplotlib.pyplot as plt\n",
        "L_values = [4, 6, 8, 10, 12]\n",
        "def find_excited_energies(H_sparse):\n",
        "    eigenvalues = sla.eigsh(H_sparse, k=8, which='SA', return_eigenvectors=False)\n",
        "    ground_state_energy = np.min(eigenvalues)\n",
        "    excited_state_energies = np.sort(eigenvalues)[1:]\n",
        "    return ground_state_energy, excited_state_energies\n",
        "\n",
        "\n",
        "\n",
        "\n",
        "h_values = np.linspace(0, 2, 50)\n",
        "ground_state_energies = []\n",
        "excited_state_energies_list = [[] for _ in range(7)]\n",
        "\n",
        "for h in h_values:\n",
        "    H_sparse = ising_sparse(L, h, periodic=True)\n",
        "    ground_energy, excited_energies = find_excited_energies(H_sparse)\n",
        "    ground_state_energies.append(ground_energy)\n",
        "    for i, energy in enumerate(excited_energies):\n",
        "        excited_state_energies_list[i].append(energy)\n",
        "\n",
        "ground_state_energies = np.array(ground_state_energies)\n",
        "excited_state_energies = np.array(excited_state_energies_list)\n",
        "\n",
        "plt.figure(figsize=(10, 8))\n",
        "for i in range(7):\n",
        "    energy_gaps = excited_state_energies[i] - ground_state_energies\n",
        "    plt.plot(h_values, energy_gaps, label=f'Excited state {i+1}')\n",
        "\n",
        "plt.axvline(x=1.0, color='r', linestyle='--', label='$h_c$')\n",
        "plt.xlabel('Transverse field $h$')\n",
        "plt.ylabel('Excitation energy $\\Delta$')\n",
        "plt.title('Excitation Energy vs Transverse Field for First 7 Excited States')\n",
        "plt.legend()\n",
        "plt.show()\n"
      ],
      "metadata": {
        "id": "KGsCEY2_ttPs"
      },
      "execution_count": null,
      "outputs": []
    },
    {
      "cell_type": "code",
      "source": [
        "def fit_critical_exponent(h_values, energy_gaps, hc):\n",
        "    fit_func = lambda h, nu: np.abs(h - hc) ** nu\n",
        "    popt, pcov = curve_fit(fit_func, h_values, energy_gaps)\n",
        "    return popt[0]\n",
        "hc=1\n",
        "energy_gaps_first_excited = excited_state_energies[0] - ground_state_energies\n",
        "\n",
        "nu_estimate_first_excited = fit_critical_exponent(h_values, energy_gaps_first_excited, hc)\n",
        "\n",
        "print(f\"critical exponent nu for the first excited state: {nu_estimate_first_excited}\")\n"
      ],
      "metadata": {
        "id": "tgv9M4I6vh6p"
      },
      "execution_count": null,
      "outputs": []
    },
    {
      "cell_type": "markdown",
      "source": [
        "Study of the fidelity"
      ],
      "metadata": {
        "id": "_76vPPl3Cyw3"
      }
    },
    {
      "cell_type": "code",
      "source": [
        "def find_ground_state(H_sparse):\n",
        "    eigenvalues, eigenvectors = sla.eigsh(H_sparse, k=1, which='SA')\n",
        "    ground_state_energy = eigenvalues[0]\n",
        "    ground_state_wavefunction = eigenvectors[:, 0]\n",
        "    return ground_state_energy, ground_state_wavefunction\n",
        "h_values = np.linspace(0.25, 2, 70)\n",
        "fidelities = []\n",
        "previous_ground_state = None\n",
        "\n",
        "for h in h_values:\n",
        "    H_sparse = ising_sparse(L, h, periodic=True)\n",
        "    ground_energy, ground_state = find_ground_state(H_sparse)\n",
        "\n",
        "    if previous_ground_state is not None:\n",
        "\n",
        "        fidelity = np.abs(np.vdot(previous_ground_state, ground_state))\n",
        "        fidelities.append(fidelity)\n",
        "\n",
        "    previous_ground_state = ground_state\n",
        "\n",
        "\n",
        "h_values_for_fidelity = h_values[1:]\n",
        "\n",
        "plt.figure(figsize=(10, 8))\n",
        "plt.plot(h_values_for_fidelity, fidelities, label='Fidelity')\n",
        "plt.xlabel('Transverse field $h$')\n",
        "plt.ylabel('Fidelity $|\\\\langle gs(h)|gs(h + \\delta h)\\\\rangle|$')\n",
        "plt.title('Fidelity as a function of Transverse Field')\n",
        "plt.legend()\n",
        "plt.show()\n",
        "\n"
      ],
      "metadata": {
        "id": "6QM-s2dfTVJp"
      },
      "execution_count": null,
      "outputs": []
    },
    {
      "cell_type": "markdown",
      "source": [
        "**4.5 Study of magnetic ordering**\n",
        "\n"
      ],
      "metadata": {
        "id": "_Imlw0E1P_lZ"
      }
    },
    {
      "cell_type": "code",
      "source": [
        "def expectation_value_sigma_z(psi, site1, site2, L):\n",
        "    expectation_value = 0\n",
        "    for a in range(len(psi)):\n",
        "\n",
        "        site1 = (site1 - 1) % L\n",
        "        site2 = (site2 - 1) % L\n",
        "\n",
        "        spin1 = 1 if (a >> site1) & 1 else -1\n",
        "        spin2 = 1 if (a >> site2) & 1 else -1\n",
        "\n",
        "        contribution = spin1 * spin2 * (abs(psi[a]) ** 2)\n",
        "        expectation_value += contribution\n",
        "\n",
        "    return expectation_value\n",
        "\n",
        "\n"
      ],
      "metadata": {
        "id": "OQ2PEZFjRqLo"
      },
      "execution_count": null,
      "outputs": []
    },
    {
      "cell_type": "markdown",
      "source": [
        "Correlation function as a function of h for 9 values of r"
      ],
      "metadata": {
        "id": "MlSAlQEtnb-s"
      }
    },
    {
      "cell_type": "code",
      "source": [
        "\n",
        "from tqdm import tqdm\n",
        "\n",
        "def compute_magnetization_squared(psi, L):\n",
        "    M2 = 0\n",
        "    for r in tqdm(range(L), desc='Magnetization Squared'):\n",
        "        M2 += expectation_value_sigma_z(psi, 1, 1+r, L)\n",
        "    return M2 / L\n",
        "def compute_correlation_function(psi, L):\n",
        "    Czz = np.zeros(L)\n",
        "    for r in range(L):\n",
        "        Czz[r] = expectation_value_sigma_z(psi, 1, 1+r, L)\n",
        "    return Czz\n",
        "\n",
        "\n",
        "L = 20\n",
        "h_values = np.linspace(0, 2, 50)\n",
        "\n",
        "M2_values = []\n",
        "Czz_values = []\n",
        "\n",
        "for h in tqdm(h_values, desc='Main Loop'):\n",
        "    H_sparse = ising_sparse(L, h, periodic=True)\n",
        "    _, psi_ground = find_ground_state(H_sparse)\n",
        "\n",
        "    M2 = compute_magnetization_squared(psi_ground, L)\n",
        "    M2_values.append(M2)\n",
        "\n",
        "    Czz = compute_correlation_function(psi_ground, L)\n",
        "    Czz_values.append(Czz)\n",
        "\n",
        "for r in range(L//2):\n",
        "    Czz_r = [Czz_values[i][r] for i in range(len(h_values))]\n",
        "    plt.plot(h_values, Czz_r, label=f'r={r}')\n",
        "\n",
        "plt.xlabel('Transverse field $h$')\n",
        "plt.ylabel('Correlation $C_{zz}(r)$')\n",
        "plt.title('Correlation Function $C_{zz}(r)$ for Different $r$')\n",
        "plt.legend()\n",
        "plt.show()\n",
        "\n"
      ],
      "metadata": {
        "id": "MInacfAwP92a"
      },
      "execution_count": null,
      "outputs": []
    },
    {
      "cell_type": "code",
      "source": [
        "def find_ground_state(H_sparse):\n",
        "    eigenvalues, eigenvectors = eigsh(H_sparse, k=1, which='SA')\n",
        "    ground_state_energy = eigenvalues[0]\n",
        "    ground_state_wavefunction = eigenvectors[:, 0]\n",
        "    return ground_state_energy, ground_state_wavefunction\n"
      ],
      "metadata": {
        "id": "H2LnjSY3jDCU"
      },
      "execution_count": null,
      "outputs": []
    },
    {
      "cell_type": "markdown",
      "source": [
        "Correlation function C^zz as a function of r for h=[0.3,1,1.7]"
      ],
      "metadata": {
        "id": "2Q1xJoPunh1S"
      }
    },
    {
      "cell_type": "code",
      "source": [
        "h_values = [0.3, 1, 1.7]\n",
        "\n",
        "Czz_values_for_h = {h: [] for h in h_values}\n",
        "L_values=[10,15,20]\n",
        "for L in L_values:\n",
        "  max_r = L\n",
        "\n",
        "\n",
        "  for h in tqdm(h_values, desc='Computing Czz for specific h values'):\n",
        "      H_sparse = ising_sparse(L, h, periodic=True)\n",
        "      _, psi_ground = find_ground_state(H_sparse)\n",
        "      Czz_values_for_h[h] = compute_correlation_function(psi_ground, L)\n",
        "\n",
        "  plt.figure(figsize=(10, 8))\n",
        "\n",
        "  for h in h_values:\n",
        "      plt.plot(range(max_r), Czz_values_for_h[h], label=f'h={h}')\n",
        "\n",
        "  plt.xlabel('Site separation $r$')\n",
        "  plt.ylabel('Correlation $C_{zz}(r)$')\n",
        "  plt.title('Correlation Function $C_{zz}(r)$ for Different $h$')\n",
        "  plt.legend()\n",
        "  plt.show()"
      ],
      "metadata": {
        "id": "qO0bHoChhkDR"
      },
      "execution_count": null,
      "outputs": []
    },
    {
      "cell_type": "markdown",
      "source": [
        "**4.7 Making use of the ising symmetry**"
      ],
      "metadata": {
        "id": "F55IxSvsxz4a"
      }
    },
    {
      "cell_type": "code",
      "source": [
        "import numpy as np\n",
        "from scipy.sparse import csr_matrix\n",
        "import scipy.sparse\n",
        "\n",
        "def create_hamiltonian(L, h, periodic):\n",
        "\n",
        "    size = 2 ** (L - 1)\n",
        "    rows_even, cols_even, data_even = [], [], []\n",
        "    rows_odd, cols_odd, data_odd = [], [], []\n",
        "\n",
        "\n",
        "    for state in range(2 ** L):\n",
        "        parity = (-1) ** bin(state).count(\"1\")\n",
        "\n",
        "        index = state >> 1\n",
        "\n",
        "        diagonal_value = -h * (L - 2 * bin(state).count(\"1\"))\n",
        "\n",
        "        if parity == 1:\n",
        "            rows_even.append(index)\n",
        "            cols_even.append(index)\n",
        "            data_even.append(diagonal_value)\n",
        "        else:\n",
        "            rows_odd.append(index)\n",
        "            cols_odd.append(index)\n",
        "            data_odd.append(diagonal_value)\n",
        "\n",
        "\n",
        "        for j in range(L - 1):\n",
        "            # flip j and j+1 bits\n",
        "            flipped_state = state ^ (3 << j)\n",
        "            new_parity = (-1) ** bin(flipped_state).count(\"1\")\n",
        "            new_index = flipped_state >> 1\n",
        "\n",
        "            if new_parity == parity:\n",
        "                if parity == 1:\n",
        "                    rows_even.append(index)\n",
        "                    cols_even.append(new_index)\n",
        "                    data_even.append(-1)\n",
        "                else:\n",
        "                    rows_odd.append(index)\n",
        "                    cols_odd.append(new_index)\n",
        "                    data_odd.append(-1)\n",
        "\n",
        "        if periodic and L > 1:\n",
        "            flipped_state = state ^ (1 + (1 << (L - 1)))\n",
        "            new_parity = (-1) ** bin(flipped_state).count(\"1\")\n",
        "            new_index = flipped_state >> 1\n",
        "\n",
        "            if new_parity == parity:\n",
        "                if parity == 1:\n",
        "                    rows_even.append(index)\n",
        "                    cols_even.append(new_index)\n",
        "                    data_even.append(-1)\n",
        "                else:\n",
        "                    rows_odd.append(index)\n",
        "                    cols_odd.append(new_index)\n",
        "                    data_odd.append(-1)\n",
        "\n",
        "    H_even = csr_matrix((data_even, (rows_even, cols_even)), shape=(size, size), dtype=np.float64)\n",
        "    H_odd = csr_matrix((data_odd, (rows_odd, cols_odd)), shape=(size, size), dtype=np.float64)\n",
        "\n",
        "    return H_even, H_odd\n",
        "\n",
        "\n",
        "\n",
        "\n"
      ],
      "metadata": {
        "id": "ibE4cV36cr0t"
      },
      "execution_count": null,
      "outputs": []
    },
    {
      "cell_type": "code",
      "source": [
        "import numpy as np\n",
        "import scipy.sparse.linalg\n",
        "from tqdm.notebook import tqdm\n",
        "\n",
        "\n",
        "L_values = [8, 10, 12, 14, 16, 18]\n",
        "h_values = np.linspace(-2,2,50)\n",
        "ground_state_energies_even = {L: [] for L in L_values}\n",
        "ground_state_energies_odd = {L: [] for L in L_values}\n",
        "\n",
        "\n",
        "for L in L_values:\n",
        "    for h in tqdm(h_values, desc=f'Computing for L={L}'):\n",
        "        H_even, H_odd = create_hamiltonian(L, h, periodic=True)\n",
        "\n",
        "        ground_state_even = scipy.sparse.linalg.eigsh(H_even, k=1, which='SA', return_eigenvectors=False)[0]\n",
        "        ground_state_energies_even[L].append(ground_state_even)\n",
        "\n",
        "        ground_state_odd = scipy.sparse.linalg.eigsh(H_odd, k=1, which='SA', return_eigenvectors=False)[0]\n",
        "        ground_state_energies_odd[L].append(ground_state_odd)\n",
        "\n",
        "\n",
        "ground_state_energies = {L: [] for L in L_values}\n",
        "for L in L_values:\n",
        "    for e_even, e_odd in zip(ground_state_energies_even[L], ground_state_energies_odd[L]):\n",
        "        ground_state_energies[L].append(min(e_even, e_odd))\n",
        "\n",
        "\n",
        "for L, energies in ground_state_energies.items():\n",
        "    plt.plot(h_values, energies, label=f'L={L}')\n",
        "\n",
        "plt.xlabel('h values')\n",
        "plt.ylabel('Ground state energy of H')\n",
        "plt.legend()\n",
        "plt.show()\n",
        "\n",
        "\n"
      ],
      "metadata": {
        "id": "Gl3b04ORXRtw"
      },
      "execution_count": null,
      "outputs": []
    },
    {
      "cell_type": "code",
      "source": [
        "def plot_energy_splitting(max_L, h, periodic):\n",
        "    L_values = range(2, max_L + 1)\n",
        "    splittings = []\n",
        "\n",
        "    for L in L_values:\n",
        "        H_even, H_odd = create_hamiltonian(L, h, periodic)\n",
        "        ground_state_energy_even = scipy.sparse.linalg.eigsh(H_even, k=1, which='SA')[0][0]\n",
        "        ground_state_energy_odd = scipy.sparse.linalg.eigsh(H_odd, k=1, which='SA')[0][0]\n",
        "        splitting = abs(ground_state_energy_even - ground_state_energy_odd)\n",
        "        splittings.append(splitting)\n",
        "\n",
        "    plt.figure(figsize=(10, 5))\n",
        "    plt.plot(L_values, splittings, marker='')\n",
        "    plt.title('Energy Splitting vs System Size L')\n",
        "    plt.xlabel('System Size L')\n",
        "    plt.ylabel('Energy Splitting')\n",
        "    plt.show()"
      ],
      "metadata": {
        "id": "MEQGbAi_LAjO"
      },
      "execution_count": null,
      "outputs": []
    },
    {
      "cell_type": "code",
      "source": [
        "plot_energy_splitting(max_L=18, h=1.0, periodic=True)"
      ],
      "metadata": {
        "id": "HHpszcGrLMzP"
      },
      "execution_count": null,
      "outputs": []
    }
  ]
}