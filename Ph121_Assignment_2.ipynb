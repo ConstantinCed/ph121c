{
 "cells": [
  {
   "cell_type": "markdown",
   "id": "491cc494-833e-4004-b6c2-b38f12c2ff23",
   "metadata": {},
   "source": [
    "5.1 Image Compression"
   ]
  },
  {
   "cell_type": "code",
   "execution_count": null,
   "id": "1f49c0c8-e3a9-43fc-9560-e07a66586e4f",
   "metadata": {
    "tags": []
   },
   "outputs": [],
   "source": [
    "import numpy as np\n",
    "import scipy\n",
    "from PIL import Image\n",
    "import matplotlib.pyplot as plt\n",
    "\n",
    "def load_image(file_path):\n",
    "    with Image.open(file_path) as img:\n",
    "        return np.array(img.convert('L'))\n",
    "\n",
    "def compute_svd(image_matrix):\n",
    "    U, s, Vt = np.linalg.svd(image_matrix, full_matrices=False)\n",
    "    return U, s, Vt\n",
    "\n",
    "def compress_image(U, s, Vt, k):\n",
    "    S = np.diag(s[:k])\n",
    "    return np.dot(U[:, :k], np.dot(S, Vt[:k, :]))\n",
    "\n",
    "def plot_images(images, titles, frobenius_norms, base_filename):\n",
    "    rows = len(images)\n",
    "    plt.figure(figsize=(20, 5 * rows))\n",
    "    for i, (image, title, fro_norm) in enumerate(zip(images, titles, frobenius_norms)):\n",
    "        plt.subplot(rows, 1, i + 1)\n",
    "        plt.imshow(image, cmap='gray')\n",
    "        plt.title(f'{title}\\nFrobenius norm: {fro_norm:.3g}', fontsize=10, pad=3)\n",
    "        plt.axis('off')\n",
    "    plt.tight_layout()\n",
    "    plt.show()\n",
    "    \n",
    "def frobenius_norm(original, approx):\n",
    "    return np.linalg.norm(original - approx)\n",
    "\n",
    "\n",
    "image_paths = ['ph121_image1.jpg', 'ph121_image2.jpg', 'ph121_image3.jpg', 'ph121_image4.jpg']\n",
    "\n",
    "for path in image_paths:  \n",
    "    A = load_image(path)\n",
    "    U, s, Vt = compute_svd(A)\n",
    "    ks = [len(s)//4, len(s)//8, len(s)//16, len(s)//32, len(s)//64, len(s)//128, len(s)//256, len(s)//512, len(s)//1024]\n",
    "    images = [A]  \n",
    "    titles = ['Original'] \n",
    "    frobenius_norms = [0]  \n",
    "    \n",
    "    for k in ks:\n",
    "        A_k = compress_image(U, s, Vt, k)\n",
    "        images.append(A_k)\n",
    "        fro_norm = frobenius_norm(A, A_k)\n",
    "        frobenius_norms.append(fro_norm)\n",
    "        titles.append(f'k={k}')\n",
    "    \n",
    "    filename = f'{path[:-4]}_compression_results.png'\n",
    "    plot_images(images, titles, frobenius_norms, filename)"
   ]
  },
  {
   "cell_type": "markdown",
   "id": "ae406b00-fbd5-49cd-a798-8c3e82db151d",
   "metadata": {},
   "source": [
    "5.2 Entaglement Entropy"
   ]
  },
  {
   "cell_type": "code",
   "execution_count": null,
   "id": "1b5d734a-0eb7-4b9d-85d2-dd825b42ae33",
   "metadata": {
    "tags": []
   },
   "outputs": [],
   "source": [
    "from scipy.sparse import csr_matrix\n",
    "import scipy\n",
    "from tqdm import tqdm\n",
    "def ising_sparse(L,h,J,periodic):\n",
    "  rows = []\n",
    "  cols = []\n",
    "  matrix_elements = []\n",
    "  for b in range(2**L):\n",
    "    for j in range(1, L + 1):\n",
    "      a = b ^ (1 << (j - 1))\n",
    "      rows.append(a)\n",
    "      cols.append(b)\n",
    "      matrix_elements.append(-h)\n",
    "\n",
    "  for a in range(2**L):\n",
    "    diagonal_value =0\n",
    "    for j in range(1, L):\n",
    "        if a & (1 << j) == (a & (1 << (j - 1))) * 2:\n",
    "            diagonal_value -= J\n",
    "        else:\n",
    "            diagonal_value += J\n",
    "\n",
    "    if periodic:\n",
    "        if (a & (1 << (L - 1))) == ((a & 1) * (2 ** (L - 1))):\n",
    "            diagonal_value -= 1\n",
    "        else:\n",
    "            diagonal_value += 1\n",
    "    if diagonal_value != 0:       \n",
    "        rows.append(a)\n",
    "        cols.append(a)\n",
    "        matrix_elements.append(diagonal_value)\n",
    "  H_sparse = csr_matrix((matrix_elements, (rows, cols)), shape=(2**L, 2**L), dtype=np.float64)\n",
    "  return H_sparse"
   ]
  },
  {
   "cell_type": "markdown",
   "id": "aea34981-b54e-4b0e-8df2-0633d98b7877",
   "metadata": {},
   "source": [
    "solving at representative points in the ferromagnetic and paramagnetic phases and at critical h"
   ]
  },
  {
   "cell_type": "code",
   "execution_count": null,
   "id": "3a3287cb-a6ca-442c-9f43-d35b530059db",
   "metadata": {
    "tags": []
   },
   "outputs": [],
   "source": [
    "#ferromagnetic\n",
    "ground_state = scipy.sparse.linalg.eigsh(ising_sparse(10,0.3,1,False), k=1, which='SA', return_eigenvectors=False)[0]\n",
    "print(ground_state)"
   ]
  },
  {
   "cell_type": "code",
   "execution_count": null,
   "id": "17cf393e-334f-4d2a-a0ee-9d8cca74b723",
   "metadata": {
    "tags": []
   },
   "outputs": [],
   "source": [
    "#paramagnetic\n",
    "ground_state = scipy.sparse.linalg.eigsh(ising_sparse(10,1.7,1,False), k=1, which='SA', return_eigenvectors=False)[0]\n",
    "print(ground_state)"
   ]
  },
  {
   "cell_type": "code",
   "execution_count": null,
   "id": "544ba8f9-0435-43a4-8215-dce278631e02",
   "metadata": {
    "tags": []
   },
   "outputs": [],
   "source": [
    "#critical h=1\n",
    "ground_state = scipy.sparse.linalg.eigsh(ising_sparse(10,1,1,False), k=1, which='SA', return_eigenvectors=False)[0]\n",
    "print(ground_state)"
   ]
  },
  {
   "cell_type": "markdown",
   "id": "4c131e7f-87e8-44d4-9b5a-759cc2c858b3",
   "metadata": {},
   "source": [
    "Calculating the entanglement entropy S(l;L)"
   ]
  },
  {
   "cell_type": "code",
   "execution_count": null,
   "id": "80cd47c0-02eb-434e-9490-e32c1640243f",
   "metadata": {
    "tags": []
   },
   "outputs": [],
   "source": [
    "from qutip import Qobj, entropy_vn\n",
    "import numpy as np\n",
    "\n",
    "\n",
    "\n",
    "H=ising_sparse(12,0.4,1, False)\n",
    "def entanglement_entropy(H, L, l):\n",
    "\n",
    "    eigvals, eigvecs = scipy.sparse.linalg.eigsh(H, k=1, which='SA')\n",
    "    ground_state_vec = eigvecs\n",
    "    \n",
    "\n",
    "    ground_state = Qobj(ground_state_vec, dims=[[2] * L, [1]])\n",
    "    \n",
    "\n",
    "    subspace_dims = [2] * L  \n",
    "    subsystem_A = list(range(l)) \n",
    "    rho_A = ground_state.ptrace(subsystem_A)\n",
    "\n",
    "    rho_A_eigenvalues = rho_A.eigenenergies()\n",
    "    entropy = -sum(eigenval * np.log(eigenval) for eigenval in rho_A_eigenvalues if eigenval>0)\n",
    "    return entropy\n",
    "\n",
    "\n",
    "\n",
    "\n",
    "\n",
    "L = 12  \n",
    "l = 3   \n",
    "periodic = False \n",
    "\n",
    "\n",
    "S_l_L = entanglement_entropy(H, L, l)\n",
    "print(f\"Entanglement entropy S({l};{L}) = {S_l_L}\")"
   ]
  },
  {
   "cell_type": "markdown",
   "id": "6dfe6113-1a60-49b8-ac05-dd59db2c2e72",
   "metadata": {},
   "source": [
    "Plotting S(l,L) as a function of l for different values of L=[9,10,11,12,13,14]\n",
    "\n",
    "For open boundary conditions"
   ]
  },
  {
   "cell_type": "code",
   "execution_count": null,
   "id": "eb41ac1d-a221-43ef-a238-a456f195e2be",
   "metadata": {
    "tags": []
   },
   "outputs": [],
   "source": [
    "import matplotlib.pyplot as plt\n",
    "from tqdm import tqdm\n",
    "\n",
    "\n",
    "h_values = [0.4, 1, 1.7]\n",
    "L_values = [9, 10, 11, 12, 13, 14]\n",
    "\n",
    "\n",
    "for h in h_values:\n",
    "    plt.figure(figsize=(8, 5))\n",
    "\n",
    "    for L in L_values:\n",
    "        periodic = True\n",
    "        H = ising_sparse(L, h, 1, periodic=False) \n",
    "\n",
    "        entropies = []\n",
    "        ls = range(1, L)  \n",
    "\n",
    "        for l in tqdm(ls, desc=f\"Calculating Entropy for L={L}, h={h}\"):\n",
    "            entropy = entanglement_entropy(H, L, l)\n",
    "            entropies.append(entropy)\n",
    "\n",
    "        plt.plot(ls, entropies, marker='o', label=f'L={L}')\n",
    "\n",
    "    plt.xlabel('Subsystem size l')\n",
    "    plt.ylabel('Entanglement entropy S(l, L)')\n",
    "    plt.title(f'Entanglement Entropy vs. Subsystem Size for h={h} (Periodic Boundary)')\n",
    "    plt.legend()\n",
    "    plt.show()"
   ]
  },
  {
   "cell_type": "markdown",
   "id": "70a92af9-a3e6-4c8f-9fbf-4b0694859a79",
   "metadata": {},
   "source": [
    "Plot of S(L/2,L)as a function of L"
   ]
  },
  {
   "cell_type": "code",
   "execution_count": null,
   "id": "2911c513-6951-4c4b-8bef-effcdd11df90",
   "metadata": {
    "tags": []
   },
   "outputs": [],
   "source": [
    "import matplotlib.pyplot as plt\n",
    "from tqdm import tqdm\n",
    "\n",
    "\n",
    "L_values = range(2, 14)\n",
    "h_values = [0.4, 1, 1.7]\n",
    "\n",
    "\n",
    "plt.figure(figsize=(8, 5))\n",
    "\n",
    "\n",
    "for h in h_values:\n",
    "    entropy_values = []\n",
    "\n",
    "    for L in tqdm(L_values, desc=f\"Calculating Entropy for h={h}\"):\n",
    "        periodic = False\n",
    "        H = ising_sparse(L, h, 1, periodic)\n",
    "        \n",
    "\n",
    "        l = L // 2  \n",
    "        entropy = entanglement_entropy(H, L, l)\n",
    "        entropy_values.append(entropy)\n",
    "\n",
    "\n",
    "    plt.plot(list(L_values), entropy_values, marker='o', label=f'h={h}')\n",
    "\n",
    "\n",
    "plt.xlabel('System size L')\n",
    "plt.ylabel('Entanglement entropy S(L/2, L)')\n",
    "plt.title('Entanglement Entropy S(L/2, L) vs. System Size L (Open Boundary)')\n",
    "plt.legend()\n",
    "plt.show()"
   ]
  },
  {
   "cell_type": "markdown",
   "id": "c2641c19-8fd9-4986-b636-bb65f812f86f",
   "metadata": {},
   "source": [
    "Now repeat with closed boundary conditions"
   ]
  },
  {
   "cell_type": "markdown",
   "id": "3ef3b6e5-94bf-4ebd-835b-b696b044fc79",
   "metadata": {},
   "source": [
    "Entaglement entropy vs subsystem size"
   ]
  },
  {
   "cell_type": "code",
   "execution_count": null,
   "id": "92e12a34-cac4-4b0f-904c-c6195e137413",
   "metadata": {
    "tags": []
   },
   "outputs": [],
   "source": [
    "import matplotlib.pyplot as plt\n",
    "from tqdm import tqdm\n",
    "\n",
    "\n",
    "h_values = [0.4, 1, 1.7]\n",
    "L_values = [9, 10, 11, 12, 13, 14]\n",
    "\n",
    "\n",
    "for h in h_values:\n",
    "\n",
    "    plt.figure(figsize=(8, 5))\n",
    "\n",
    "    for L in L_values:\n",
    "        periodic = True\n",
    "        H = ising_sparse(L, h, 1, periodic)  \n",
    "\n",
    "\n",
    "        entropies = []\n",
    "        ls = range(1, L)  \n",
    "\n",
    "\n",
    "        for l in tqdm(ls, desc=f\"Calculating Entropy for L={L}, h={h}\"):\n",
    "            entropy = entanglement_entropy(H, L, l)\n",
    "            entropies.append(entropy)\n",
    "\n",
    " \n",
    "        plt.plot(ls, entropies, marker='o', label=f'L={L}')\n",
    "\n",
    "\n",
    "    plt.xlabel('Subsystem size l')\n",
    "    plt.ylabel('Entanglement entropy S(l, L)')\n",
    "    plt.title(f'Entanglement Entropy vs. Subsystem Size for h={h} (Periodic Boundary)')\n",
    "    plt.legend()\n",
    "    plt.show()"
   ]
  },
  {
   "cell_type": "markdown",
   "id": "dddea9aa-a847-46f6-90c1-0837c894a1e7",
   "metadata": {},
   "source": [
    "Plot of S(L/2, L)"
   ]
  },
  {
   "cell_type": "code",
   "execution_count": null,
   "id": "900be83c-2400-416f-9646-909848404d02",
   "metadata": {
    "tags": []
   },
   "outputs": [],
   "source": [
    "import matplotlib.pyplot as plt\n",
    "from tqdm import tqdm\n",
    "\n",
    "\n",
    "h_values = [0.4, 1, 1.7]  \n",
    "L_values = range(2, 15)   \n",
    "\n",
    "\n",
    "for h in h_values:\n",
    "    entropy_values = []\n",
    "\n",
    "    for L in tqdm(L_values, desc=f\"Calculating Entropy for h={h}\"):\n",
    "        periodic = True\n",
    "        H = ising_sparse(L, h, 1, periodic)  \n",
    "        \n",
    "        l = L // 2  \n",
    "        entropy = entanglement_entropy(H, L, l)\n",
    "        entropy_values.append(entropy)\n",
    "\n",
    "\n",
    "    plt.plot(list(L_values), entropy_values, marker='o', label=f'h={h}')\n",
    "\n",
    "\n",
    "plt.xlabel('System size L')\n",
    "plt.ylabel('Entanglement entropy S(L/2, L)')\n",
    "plt.title('Entanglement Entropy S(L/2, L) vs. System Size L (Closed boundary)')\n",
    "plt.legend()\n",
    "plt.show()"
   ]
  },
  {
   "cell_type": "markdown",
   "id": "56dbdd82-74ae-4fae-85ce-a311fd083817",
   "metadata": {},
   "source": [
    "Entaglement Entropy is much larger since a closed loop increases the number of paths along which quantum correlations can propagate. Closed systems lack edges, so there are no boundary spins that only interact with one neighbor, which would otherwise reduce the entanglement entropy.\n",
    "\n",
    "Fit of entaglement entropy with function"
   ]
  },
  {
   "cell_type": "code",
   "execution_count": null,
   "id": "6bfd57ae-9588-4566-9532-1f72bb781acd",
   "metadata": {
    "tags": []
   },
   "outputs": [],
   "source": [
    "import numpy as np\n",
    "from scipy.optimize import curve_fit\n",
    "import matplotlib.pyplot as plt\n",
    "L=14\n",
    "H=ising_sparse(L,1,1, False)\n",
    "\n",
    "def fit_function(l, c, C):\n",
    "\n",
    "    return (c / 3) * np.log((L / np.pi) * np.sin(np.pi * l / L)) + C\n",
    "\n",
    "entropies = []\n",
    "ls = range(1,L)\n",
    "for l in tqdm(ls, desc=\"Calculating Entropy\"):\n",
    "    entropy = entanglement_entropy(H, L, l)\n",
    "    entropies.append(entropy)\n",
    "\n",
    "\n",
    "\n",
    "ls = np.arange(1, L)  \n",
    "\n",
    "\n",
    "popt, pcov = curve_fit(fit_function, ls, entropies)\n",
    "\n",
    "\n",
    "c_fit, C_fit = popt\n",
    "\n",
    "\n",
    "print(f\"c: {c_fit}, C: {C_fit}\")\n",
    "\n",
    "\n",
    "plt.figure(figsize=(8, 5))\n",
    "plt.plot(ls, entropies, 'o', label='Computed S(l, L)')\n",
    "plt.plot(ls, fit_function(ls, *popt), '-', label='Fit S(l, L)')\n",
    "plt.xlabel('Subsystem size l')\n",
    "plt.ylabel('Entanglement entropy S(l, L)')\n",
    "plt.title('Fit of Entanglement Entropy vs. Subsystem Size')\n",
    "plt.legend()\n",
    "plt.show()"
   ]
  },
  {
   "cell_type": "markdown",
   "id": "b94fb8c8-53c5-41ae-8fad-467fedcf7de1",
   "metadata": {},
   "source": [
    "Similar for highest energy of the hamiltonian for open boundary conditions"
   ]
  },
  {
   "cell_type": "markdown",
   "id": "77c2eb9a-8567-498d-963b-a2bc4c7b45de",
   "metadata": {},
   "source": [
    "Function computing the entaglement entropy\n"
   ]
  },
  {
   "cell_type": "code",
   "execution_count": null,
   "id": "e5c73462-a0ea-47f2-8f30-3ccd84391ec3",
   "metadata": {
    "tags": []
   },
   "outputs": [],
   "source": [
    "from qutip import Qobj\n",
    "import scipy.sparse.linalg\n",
    "import numpy as np\n",
    "L = 12  \n",
    "l = 3   \n",
    "H=ising_sparse(L,1,1,False)\n",
    "def entanglement_entropy(H, L, l, highest=False):\n",
    "    which_eig = 'LA' if highest else 'SA'\n",
    "    eigvals, eigvecs = scipy.sparse.linalg.eigsh(H, k=1, which=which_eig)\n",
    "    state_vec = eigvecs\n",
    "    state = Qobj(state_vec, dims=[[2] * L, [1]])\n",
    "    subspace_dims = [2] * L  \n",
    "    subsystem_A = list(range(l)) \n",
    "    rho_A = state.ptrace(subsystem_A)\n",
    "    entropy = entropy_vn(rho_A, base=np.e)\n",
    "    return entropy\n",
    "S_l_L_highest = entanglement_entropy(H, L, l, highest=True)\n",
    "print(f\"Entanglement entropy for the highest excited state S({l};{L}) = {S_l_L_highest}\")"
   ]
  },
  {
   "cell_type": "markdown",
   "id": "88679306-b162-49b0-84c4-d77d20b03a42",
   "metadata": {},
   "source": [
    "plot of entaglement entropy vs susbsystem size with highest excited state"
   ]
  },
  {
   "cell_type": "code",
   "execution_count": null,
   "id": "8226b44c-43c4-482c-b642-ab499075690b",
   "metadata": {
    "tags": []
   },
   "outputs": [],
   "source": [
    "import matplotlib.pyplot as plt\n",
    "from tqdm import tqdm\n",
    "h_values = [0.4, 1, 1.7]\n",
    "L_values = [9, 10, 11, 12, 13, 14]\n",
    "\n",
    "for h in h_values:\n",
    "    plt.figure(figsize=(8, 5))\n",
    "    for L in L_values:\n",
    "        periodic = True\n",
    "        H = ising_sparse(L, h, 1, False) \n",
    "        entropies = []\n",
    "        ls = range(1, L) \n",
    "        for l in tqdm(ls, desc=f\"Calculating Entropy for L={L}, h={h}\"):\n",
    "            entropy = entanglement_entropy(H, L, l, highest= True)\n",
    "            entropies.append(entropy)\n",
    "        plt.plot(ls, entropies, marker='o', label=f'L={L}')\n",
    "    plt.xlabel('Subsystem size l')\n",
    "    plt.ylabel('Entanglement entropy S(l, L)')\n",
    "    plt.title(f'Entanglement Entropy vs. Subsystem Size for h={h} (Periodic Boundary)')\n",
    "    plt.legend()\n",
    "    plt.show()"
   ]
  },
  {
   "cell_type": "markdown",
   "id": "410c9985-43a0-4de2-976e-56ab5b650ea7",
   "metadata": {},
   "source": [
    "Plot of S(L/2,L)as a function of L with highest energy state and open boundary conditions"
   ]
  },
  {
   "cell_type": "code",
   "execution_count": null,
   "id": "96eef1ab-699c-4a6b-aa6f-2c04a30b311b",
   "metadata": {
    "tags": []
   },
   "outputs": [],
   "source": [
    "import matplotlib.pyplot as plt\n",
    "from tqdm import tqdm\n",
    "\n",
    "L_values = range(2, 14)\n",
    "h_values = [0.4, 1, 1.7]\n",
    "plt.figure(figsize=(8, 5))\n",
    "for h in h_values:\n",
    "    entropy_values = []\n",
    "    for L in tqdm(L_values, desc=f\"Calculating Entropy for h={h}\"):\n",
    "        periodic = False\n",
    "        H = ising_sparse(L, h, 1, periodic)\n",
    "        l = L // 2 \n",
    "        entropy = entanglement_entropy(H, L, l, highest=True)\n",
    "        entropy_values.append(entropy)\n",
    "    plt.plot(list(L_values), entropy_values, marker='o', label=f'h={h}')\n",
    "plt.xlabel('System size L')\n",
    "plt.ylabel('Entanglement entropy S(L/2, L)')\n",
    "plt.title('Entanglement Entropy S(L/2, L) for Highest Excited State vs. System Size L (Open Boundary)')\n",
    "plt.legend()\n",
    "plt.show()"
   ]
  },
  {
   "cell_type": "markdown",
   "id": "d6f2189c-8ba3-4ac6-a939-2e427817525c",
   "metadata": {},
   "source": [
    "5.3 Truncation error of schmidt decomposition for L=15"
   ]
  },
  {
   "cell_type": "code",
   "execution_count": null,
   "id": "b516fba0-9660-47b8-a1d3-287ca9678b6a",
   "metadata": {
    "tags": []
   },
   "outputs": [],
   "source": [
    "import numpy as np\n",
    "import scipy.sparse.linalg as sla\n",
    "import scipy.sparse as sparse\n",
    "import matplotlib.pyplot as plt\n",
    "\n",
    "def schmidt_decomposition(psi, L):\n",
    "    midpoint = 2**(L//2)\n",
    "    psi_matrix = psi.reshape(midpoint, -1)\n",
    "    U, S, Vh = np.linalg.svd(psi_matrix, full_matrices=False)\n",
    "    return U, S, Vh\n",
    "\n",
    "def compute_truncated_state(U, S, Vh, k):\n",
    "    S_k = np.zeros_like(S)\n",
    "    S_k[:k] = S[:k]\n",
    "    return U @ np.diag(S_k) @ Vh\n",
    "\n",
    "def compute_errors(H, psi, psi_approx):\n",
    "    psi = psi.flatten() \n",
    "    psi_approx = psi_approx.flatten()  \n",
    "    norm_psi = np.linalg.norm(psi)\n",
    "    norm_psi_approx = np.linalg.norm(psi_approx)\n",
    "    E_exact = (psi.conj().T @ (H @ psi)) / norm_psi**2 \n",
    "    E_approx = (psi_approx.conj().T @ (H @ psi_approx)) / norm_psi_approx**2\n",
    "\n",
    "    return np.linalg.norm(psi - psi_approx), np.abs(E_exact - E_approx)\n",
    "L = 15 \n",
    "h = 0.4\n",
    "J = 1.0\n",
    "H_sparse = ising_sparse(L,h,J,periodic) \n",
    "eigvals, eigvecs = sla.eigsh(H_sparse, k=1, which='SA')\n",
    "psi_original = eigvecs[:, 0]\n",
    "U, S, Vh = schmidt_decomposition(psi_original, L)\n",
    "ks = [2**i for i in range(L//2 + 1)]\n",
    "errors = []\n",
    "energy_diffs = []\n",
    "\n",
    "for k in ks:\n",
    "    psi_approx = compute_truncated_state(U, S, Vh, k)\n",
    "    psi_approx = psi_approx.flatten() \n",
    "    error, energy_diff = compute_errors(H_sparse, psi_original, psi_approx)\n",
    "    errors.append(error)\n",
    "    energy_diffs.append(energy_diff)\n",
    "\n",
    "plt.figure(figsize=(10, 5))\n",
    "plt.subplot(1, 2, 1)\n",
    "plt.plot(ks, errors, '-o')\n",
    "plt.xlabel('k')\n",
    "plt.ylabel('Frobenius norm error')\n",
    "plt.xscale('log')\n",
    "\n",
    "plt.subplot(1, 2, 2)\n",
    "plt.plot(errors, energy_diffs, '-o')\n",
    "plt.xlabel('Frobenius norm error')\n",
    "plt.ylabel('Energy difference $\\Delta E$')\n",
    "plt.show()\n"
   ]
  },
  {
   "cell_type": "markdown",
   "id": "813935bb-5e68-4492-89bf-08df2405ab6c",
   "metadata": {},
   "source": [
    "5.4 Entaglement entropy of highly excited states"
   ]
  },
  {
   "cell_type": "code",
   "execution_count": null,
   "id": "16fd7d4a-00ee-412a-b5c4-83feff2d9fed",
   "metadata": {},
   "outputs": [],
   "source": [
    "Dense Hamiltonian diagonilzation"
   ]
  },
  {
   "cell_type": "code",
   "execution_count": null,
   "id": "bb40b358-5ca9-46ed-ad57-1b4d01212666",
   "metadata": {
    "tags": []
   },
   "outputs": [],
   "source": [
    "def ising_hamiltonian_dense(L, h, periodic):\n",
    "    H = np.zeros((2**L, 2**L))\n",
    "    for b in range(2**L):\n",
    "        for j in range(1, L+1):\n",
    "            a = b ^ (1 << (j - 1))\n",
    "            H[a, b] -= h\n",
    "    for a in range(2**L):\n",
    "        for j in range(1, L):\n",
    "            if a & (1 << j) == (a & (1 << (j - 1))) * 2:\n",
    "                H[a, a] -= 1\n",
    "            else:\n",
    "                H[a, a] += 1\n",
    "        if periodic:\n",
    "            if (a & (1 << (L - 1))) == ((a & (1 << 0)) * (2**(L - 1))):\n",
    "                H[a, a] -= 1\n",
    "            else:\n",
    "                H[a, a] += 1\n",
    "    return H"
   ]
  },
  {
   "cell_type": "markdown",
   "id": "8acd2b84-7f5f-4de0-ac31-18866aae75df",
   "metadata": {},
   "source": [
    "Computing entaglement entropy for a highly excited state"
   ]
  },
  {
   "cell_type": "code",
   "execution_count": null,
   "id": "bf672a95-0710-4242-961d-13b6c6f0bc7d",
   "metadata": {
    "tags": []
   },
   "outputs": [],
   "source": [
    "from qutip import Qobj, entropy_vn\n",
    "import numpy as np\n",
    "import math\n",
    "import scipy.linalg as la\n",
    "\n",
    "def entanglement_entropy_of_excited_state(H_dense, L, l):\n",
    "    eigvals, eigvecs = la.eigh(H_dense)\n",
    "    mid_index = len(eigvals) // 2 \n",
    "    excited_state_vec = eigvecs[:, mid_index]\n",
    "    excited_state = Qobj(excited_state_vec, dims=[[2] * L, [1]])\n",
    "    subspace_dims = [2] * L \n",
    "    subsystem_A = list(range(l))\n",
    "    rho_A = excited_state.ptrace(subsystem_A)\n",
    "    entropy = entropy_vn(rho_A, base=np.e)\n",
    "    return entropy\n",
    "L_values =[7, 8,9,10,11] \n",
    "h = 0.4\n",
    "periodic = True\n",
    "for L in L_values:\n",
    "    H_dense = ising_hamiltonian_dense(L, h, periodic)\n",
    "    S_l_L = entanglement_entropy_of_excited_state(H_dense, L, math.ceil(L / 2))\n",
    "    print(f\"Entanglement entropy S({math.ceil(L / 2)};{L}) = {S_l_L}\")"
   ]
  },
  {
   "cell_type": "markdown",
   "id": "9ba7d6b8-7dc7-49d8-9079-9cc86e4dacbf",
   "metadata": {},
   "source": [
    "5.5 MPS Approximation"
   ]
  },
  {
   "cell_type": "code",
   "execution_count": null,
   "id": "96691aaa-5289-4050-86a4-baec5bdc1614",
   "metadata": {
    "tags": []
   },
   "outputs": [],
   "source": [
    "import numpy as np\n",
    "from scipy.linalg import svd\n",
    "\n",
    "def compute_mps(wavefunction, max_bond_dim):\n",
    "    L = int(np.log2(wavefunction.shape[0]))\n",
    "    mps_tensors = []\n",
    "    current_tensor = wavefunction\n",
    "    sz = current_tensor.shape[0] * 2\n",
    "    matrix = current_tensor.reshape(2, 2**(L-1))\n",
    "    for i in range(L - 1):\n",
    "        U, s, Vh = svd(matrix, full_matrices=False)\n",
    "        min_dim = min(len(s), max_bond_dim)\n",
    "        U = U[:, :min_dim]\n",
    "        s = s[:min_dim]\n",
    "        Vh = Vh[:min_dim, :]\n",
    "        if i == 0:\n",
    "            mps_tensors.append(U)\n",
    "        else:\n",
    "            mps_tensors.append(U.reshape((-1, 2, min_dim)))\n",
    "        if i<L-2:\n",
    "            matrix=(np.diag(s)@Vh).reshape(2 * min_dim,-1)\n",
    "        else:\n",
    "            mps_tensors.append(np.diag(s)@Vh)\n",
    "    return mps_tensors\n",
    "H=ising_sparse(6,1,1, False)\n",
    "eigvals, eigvecs = scipy.sparse.linalg.eigsh(H, k=1, which='SA')\n",
    "wavefunction = eigvecs\n",
    "mps_approx = compute_mps(wavefunction, max_bond_dim=4)\n",
    "for i, tensor in enumerate(mps_approx):\n",
    "    print(f\"Tensor {i} shape: {tensor.shape}\")"
   ]
  },
  {
   "cell_type": "markdown",
   "id": "30a8f0d9-69df-423a-9a1d-60d4a497f1e8",
   "metadata": {},
   "source": [
    "Plot of storage "
   ]
  },
  {
   "cell_type": "code",
   "execution_count": null,
   "id": "e7fe3bef-6604-455c-9194-51fb5a0ff285",
   "metadata": {
    "tags": []
   },
   "outputs": [],
   "source": [
    "H=ising_sparse(10,1.3, 1,False)\n",
    "L=10\n",
    "psi = scipy.sparse.linalg.eigsh(H, k=1, which='SA')[1]\n",
    "K = range(1, 2**L//2)\n",
    "storage = []         \n",
    "for k in K:\n",
    "    mps_psi = compute_mps(psi, k)\n",
    "    total_storage = 0\n",
    "    for tensor in mps_psi:\n",
    "        total_storage += np.prod(tensor.shape) \n",
    "    storage.append(total_storage)\n",
    "storage = 100*(np.array(storage))/2**L\n",
    "plt.figure(figsize=(10, 5))\n",
    "plt.plot(K, storage, marker='o')\n",
    "plt.xlabel('Bond Dimension $k$')\n",
    "plt.ylabel('Storage % of initial')\n",
    "plt.title('Storage requirements versus bond dimensions $k$')\n",
    "plt.grid(True)\n",
    "plt.gca().invert_xaxis()\n",
    "plt.show()"
   ]
  },
  {
   "cell_type": "markdown",
   "id": "d3717143-1775-487c-b53a-9a5a8cad6f1e",
   "metadata": {},
   "source": [
    "reconstructing the wavefunction using contraction"
   ]
  },
  {
   "cell_type": "markdown",
   "id": "b71e2399-bd04-4509-91f2-2087a4924781",
   "metadata": {},
   "source": [
    "pushing for large Ls large and k=4"
   ]
  },
  {
   "cell_type": "code",
   "execution_count": null,
   "id": "de2756ac-c9aa-410b-ae37-81053873f14d",
   "metadata": {
    "tags": []
   },
   "outputs": [],
   "source": [
    "H=ising_sparse(10,0.4,1,False)\n",
    "psi = scipy.sparse.linalg.eigsh(H, k=1, which='SA')[1].reshape(-1)\n",
    "A = np.sqrt(np.sum(np.abs(psi)**2))\n",
    "psi = psi/A\n",
    "k=2**2\n",
    "MPS = compute_mps(psi, k)\n",
    "\n",
    "def contract_mps_tensors(mps_tensors):\n",
    "    state = mps_tensors[0]\n",
    "\n",
    "    for i, tensor in enumerate(mps_tensors[1:], 1):\n",
    "        if i == len(mps_tensors) - 1:\n",
    "            state = np.einsum('...j,jk->...k', state, tensor)\n",
    "        else:\n",
    "            state = np.einsum('...j,jkl->...kl', state, tensor)\n",
    "\n",
    "    return state.flatten()\n",
    "\n",
    "\n",
    "for mp in MPS:\n",
    "    print(mp.shape)\n",
    "\n",
    "    final_psi = contract_mps_tensors(MPS)\n",
    "A = np.sqrt(np.sum(np.abs(final_psi)**2))\n",
    "final_psi = final_psi/A\n",
    "\n",
    "\n",
    "\n",
    "print(psi)\n",
    "print(final_psi)"
   ]
  },
  {
   "cell_type": "markdown",
   "id": "d3a51a1b-c5f9-4e59-9dfc-a103c5bcb5e0",
   "metadata": {},
   "source": [
    "Computing the overlap for L=10 and k=4"
   ]
  },
  {
   "cell_type": "code",
   "execution_count": null,
   "id": "398e3d4e-2580-44b5-9d36-09b63dadf397",
   "metadata": {
    "tags": []
   },
   "outputs": [],
   "source": [
    "import numpy as np\n",
    "import scipy.sparse.linalg as sla\n",
    "import scipy.linalg as la\n",
    "import scipy.sparse as sparse\n",
    "\n",
    "def ising_hamiltonian_dense(L, h, periodic):\n",
    "    H = np.zeros((2**L, 2**L))\n",
    "    for b in range(2**L):\n",
    "        for j in range(1, L+1):\n",
    "            a = b ^ (1 << (j - 1))\n",
    "            H[a, b] -= h\n",
    "    for a in range(2**L):\n",
    "        for j in range(1, L):\n",
    "            if a & (1 << j) == (a & (1 << (j - 1))) * 2:\n",
    "                H[a, a] -= 1\n",
    "            else:\n",
    "                H[a, a] += 1\n",
    "        if periodic:\n",
    "            if (a & (1 << (L - 1))) == ((a & (1 << 0)) * (2**(L - 1))):\n",
    "                H[a, a] -= 1\n",
    "            else:\n",
    "                H[a, a] += 1\n",
    "    return H\n",
    "L = 10\n",
    "h = 0.4\n",
    "periodic = False\n",
    "H_dense = ising_hamiltonian_dense(L, h, periodic)\n",
    "eigvals, eigvecs = la.eigh(H_dense)\n",
    "psi_original = eigvecs[:, 0]\n",
    "A = np.sqrt(np.sum(np.abs(psi_original)**2))\n",
    "psi_original = psi_original / A\n",
    "overlap = np.abs(np.vdot(psi_original, final_psi))\n",
    "print(\"Overlap: \", overlap)"
   ]
  },
  {
   "cell_type": "markdown",
   "id": "8dde21f5-ace7-4a6d-aba8-94b8c48c8cd0",
   "metadata": {},
   "source": [
    "5.5.2 MPS Canonical form"
   ]
  },
  {
   "cell_type": "code",
   "execution_count": null,
   "id": "1df5f72e-0bf9-4bef-8939-8c432957ed8f",
   "metadata": {
    "tags": []
   },
   "outputs": [],
   "source": [
    "import numpy as np\n",
    "from scipy.linalg import svd\n",
    "\n",
    "def left_canonicalize(tensor, max_bond_dim):\n",
    "    shape = tensor.shape\n",
    "    reshaped_tensor = tensor.reshape(shape[0], -1)\n",
    "    U, s, Vh = svd(reshaped_tensor, full_matrices=False)\n",
    "    min_dim = min(len(s), max_bond_dim)\n",
    "    U = U[:, :min_dim]\n",
    "    s = s[:min_dim]\n",
    "    Vh = Vh[:min_dim, :]\n",
    "    return U, s, Vh\n",
    "\n",
    "def right_canonicalize(tensor, max_bond_dim):\n",
    "    shape = tensor.shape\n",
    "    reshaped_tensor = tensor.reshape(-1, shape[-1])\n",
    "    U, s, Vh = svd(reshaped_tensor, full_matrices=False)\n",
    "    min_dim = min(len(s), max_bond_dim)\n",
    "    U = U[:, :min_dim]\n",
    "    s = s[:min_dim]\n",
    "    Vh = Vh[:min_dim, :]\n",
    "    return U, s, Vh"
   ]
  },
  {
   "cell_type": "code",
   "execution_count": null,
   "id": "8579115b-329f-4f78-9fac-cadb3a4d417a",
   "metadata": {
    "tags": []
   },
   "outputs": [],
   "source": [
    "def compute_schmidt_coefficients(tensor, direction):\n",
    "    if direction == 'left':\n",
    "        _, s, _ = svd(tensor.reshape(tensor.shape[0], -1), full_matrices=False)\n",
    "    else:\n",
    "        _, s, _ = svd(tensor.reshape(-1, tensor.shape[-1]), full_matrices=False)\n",
    "\n",
    "    return s\n",
    "\n",
    "def canonicalize_and_compute_schmidt(mps_tensors, max_bond_dim):\n",
    "    L = len(mps_tensors)\n",
    "    schmidt_coefficients = []\n",
    "    for i in range(L - 1):\n",
    "        U, s, Vh = left_canonicalize(mps_tensors[i], max_bond_dim)\n",
    "        mps_tensors[i] = U\n",
    "        schmidt_coefficients.append(s) \n",
    "        next_tensor_shape = mps_tensors[i + 1].shape\n",
    "        mps_tensors[i + 1] = np.dot(np.diag(s), Vh).reshape(min(len(s), max_bond_dim), next_tensor_shape[1], -1)\n",
    "    for i in reversed(range(1, L)):\n",
    "        U, s, Vh = right_canonicalize(mps_tensors[i], max_bond_dim)\n",
    "        mps_tensors[i] = Vh\n",
    "        schmidt_coefficients.append(s)\n",
    "        prev_tensor_shape = mps_tensors[i - 1].shape\n",
    "        mps_tensors[i - 1] = np.dot(U, np.diag(s)).reshape(prev_tensor_shape[0], -1, min(len(s), max_bond_dim))\n",
    "    orthogonality_center = mps_tensors[L // 2]\n",
    "\n",
    "    return mps_tensors, schmidt_coefficients, orthogonality_center"
   ]
  },
  {
   "cell_type": "code",
   "execution_count": null,
   "id": "1166ba58-1ccf-4f88-8b60-0c4425b9a81a",
   "metadata": {
    "tags": []
   },
   "outputs": [],
   "source": [
    "import numpy as np\n",
    "\n",
    "def initialize_fixed_mps(L):\n",
    "    mps_tensors = []\n",
    "\n",
    "    # First tensor\n",
    "    A1_up = np.array([[1, 1]]) / np.sqrt(2)\n",
    "    A1_down = np.array([[1, -1]]) / np.sqrt(2)\n",
    "    mps_tensors.append(A1_up)\n",
    "    mps_tensors.append(A1_down)\n",
    "\n",
    "    # Intermediate tensors\n",
    "    for _ in range(2, L - 1):\n",
    "        A_mid_up = np.array([[1, 1], [1, 0]]) / np.sqrt(2)\n",
    "        A_mid_down = np.array([[0, 0], [1, -1]]) / np.sqrt(2)\n",
    "        mps_tensors.append(A_mid_up)\n",
    "        mps_tensors.append(A_mid_down)\n",
    "\n",
    "    # Last tensor\n",
    "    A_last_up = np.array([[1], [0]])\n",
    "    A_last_down = np.array([[0], [1]])\n",
    "    mps_tensors.append(A_last_up)\n",
    "    mps_tensors.append(A_last_down)\n",
    "\n",
    "    return mps_tensors"
   ]
  },
  {
   "cell_type": "code",
   "execution_count": null,
   "id": "5d445a28-952f-4442-a585-90ec591eb07b",
   "metadata": {
    "tags": []
   },
   "outputs": [],
   "source": [
    "H = ising_sparse(10, 1, 1, False)\n",
    "eigvals, eigvecs = scipy.sparse.linalg.eigsh(H, k=1, which='SA')\n",
    "wavefunction = eigvecs\n",
    "mps_tensors = compute_mps(wavefunction, max_bond_dim=2)\n",
    "canonical_mps, schmidt_coefficients, orthogonality_center = canonicalize_and_compute_schmidt(mps_tensors, max_bond_dim=4)\n",
    "for i, tensor in enumerate(canonical_mps):\n",
    "    print(f\"Tensor {i} shape: {tensor.shape}\")\n",
    "for i, coeffs in enumerate(schmidt_coefficients):\n",
    "    print(f\"Schmidt coefficients across bond {i}: {coeffs}\")\n",
    "print(\"Orthogonality center shape:\", orthogonality_center.shape)"
   ]
  },
  {
   "cell_type": "code",
   "execution_count": null,
   "id": "37f25a04-9d6b-482b-83f5-20e62653eb57",
   "metadata": {},
   "outputs": [],
   "source": []
  }
 ],
 "metadata": {
  "kernelspec": {
   "display_name": "Python 3 (ipykernel)",
   "language": "python",
   "name": "python3"
  },
  "language_info": {
   "codemirror_mode": {
    "name": "ipython",
    "version": 3
   },
   "file_extension": ".py",
   "mimetype": "text/x-python",
   "name": "python",
   "nbconvert_exporter": "python",
   "pygments_lexer": "ipython3",
   "version": "3.11.3"
  }
 },
 "nbformat": 4,
 "nbformat_minor": 5
}
